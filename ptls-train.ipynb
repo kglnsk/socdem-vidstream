{
 "cells": [
  {
   "cell_type": "code",
   "execution_count": 1,
   "id": "1ffea428-e3a1-4b51-bf27-0750fb7990c7",
   "metadata": {},
   "outputs": [],
   "source": [
    "%load_ext autoreload\n",
    "%autoreload 2\n",
    "\n",
    "# import logging\n",
    "import torch\n",
    "import pytorch_lightning as pl\n",
    "\n",
    "import pandas as pd\n",
    "import numpy as np\n",
    "from datetime import datetime\n",
    "from sklearn.model_selection import train_test_split\n",
    "from sklearn.metrics import f1_score,accuracy_score\n",
    "import sentence_transformers\n",
    "# import warnings\n",
    "\n",
    "# warnings.filterwarnings('ignore')\n",
    "# logging.getLogger(\"pytorch_lightning\").setLevel(logging.ERROR)"
   ]
  },
  {
   "cell_type": "code",
   "execution_count": 2,
   "id": "3cbc199c-3ae2-4835-ade5-ede6df7c7017",
   "metadata": {},
   "outputs": [],
   "source": [
    "region_to_utc = {\n",
    "    'Chelyabinsk': '+05:00',\n",
    "    'Bashkortostan Republic': '+05:00',\n",
    "    'St.-Petersburg': '+03:00',\n",
    "    'Moscow': '+03:00',\n",
    "    'Rostov': '+03:00',\n",
    "    'Moscow Oblast': '+03:00',\n",
    "    'Kursk Oblast': '+03:00',\n",
    "    'Kemerovo Oblast': '+07:00',\n",
    "    'Arkhangelskaya': '+03:00',\n",
    "    'Tomsk Oblast': '+07:00',\n",
    "    'Novosibirsk Oblast': '+07:00',\n",
    "    'Sverdlovsk Oblast': '+05:00',\n",
    "    'Leningradskaya Oblast': '+03:00',\n",
    "    'Krasnodar Krai': '+03:00',\n",
    "    'Tatarstan Republic': '+03:00',\n",
    "    'Belgorod Oblast': '+03:00',\n",
    "    'Kuzbass': '+07:00',\n",
    "    'Udmurtiya Republic': '+04:00',\n",
    "    'Chuvashia': '+03:00',\n",
    "    'Ryazan Oblast': '+03:00',\n",
    "    'Perm Krai': '+05:00',\n",
    "    'Sakha': '+09:00',\n",
    "    'Orenburg Oblast': '+05:00',\n",
    "    'Primorye': '+10:00',\n",
    "    'Zabaykalskiy Transbaikal Kray': '+09:00',\n",
    "    'Bryansk Oblast': '+03:00',\n",
    "    'Tver Oblast': '+03:00',\n",
    "    'Stavropol Kray': '+03:00',\n",
    "    'Khabarovsk': '+10:00',\n",
    "    'Penza Oblast': '+03:00',\n",
    "    'Mariy-El Republic': '+03:00',\n",
    "    'Smolensk Oblast': '+03:00',\n",
    "    'Tambov Oblast': '+03:00',\n",
    "    'Novgorod Oblast': '+03:00',\n",
    "    'Khakasiya Republic': '+07:00',\n",
    "    'Ulyanovsk': '+04:00',\n",
    "    'Volgograd Oblast': '+03:00',\n",
    "    'Irkutsk Oblast': '+08:00',\n",
    "    'Komi': '+03:00',\n",
    "    'Nizhny Novgorod Oblast': '+03:00',\n",
    "    'Krasnoyarsk Krai': '+07:00',\n",
    "    'Kurgan Oblast': '+05:00',\n",
    "    'Kirov Oblast': '+03:00',\n",
    "    'Omsk Oblast': '+06:00',\n",
    "    'Vladimir Oblast': '+03:00',\n",
    "    'Yaroslavl Oblast': '+03:00',\n",
    "    'Saratov Oblast': '+04:00',\n",
    "    'Khanty-Mansia': '+05:00',\n",
    "    'Tula Oblast': '+03:00',\n",
    "    'Amur Oblast': '+09:00',\n",
    "    'Altay Kray': '+07:00',\n",
    "    'Buryatiya Republic': '+08:00',\n",
    "    'Dagestan': '+03:00',\n",
    "    'Kaluga Oblast': '+03:00',\n",
    "    'Kaliningrad Oblast': '+02:00',\n",
    "    'Murmansk': '+03:00',\n",
    "    'Samara Oblast': '+04:00',\n",
    "    'Stavropol Kray': '+03:00',\n",
    "    'Voronezh Oblast': '+03:00',\n",
    "    'Kursk': '+03:00',\n",
    "    'Sverdlovsk': '+05:00',\n",
    "    'Karelia': '+03:00',\n",
    "    'Lipetsk Oblast': '+03:00',\n",
    "    'Adygeya Republic': '+03:00',\n",
    "    'Ivanovo Oblast': '+03:00',\n",
    "    'Oryol Oblast': '+03:00',\n",
    "    'Tula': '+03:00',\n",
    "    'Kamchatka': '+12:00',\n",
    "    'Tyumen Oblast': '+05:00',\n",
    "    'Krasnodarskiy': '+03:00',\n",
    "    'Krasnoyarskiy': '+07:00',\n",
    "    'Pskov Oblast': '+03:00',\n",
    "    'Crimea': '+03:00',\n",
    "    'Chechnya': '+03:00',\n",
    "    'Saratovskaya Oblast': '+04:00',\n",
    "    'Kalmykiya Republic': '+03:00',\n",
    "    'North Ossetia–Alania': '+03:00',\n",
    "    'Vologda Oblast': '+03:00',\n",
    "    'Karachayevo-Cherkesiya Republic': '+03:00',\n",
    "    'Voronezh': '+03:00',\n",
    "    'Chukotka': '+12:00',\n",
    "    'Mordoviya Republic': '+03:00',\n",
    "    'Kostroma Oblast': '+03:00',\n",
    "    'Yamalo-Nenets': '+05:00',\n",
    "    'Magadan Oblast': '+11:00',\n",
    "    'Altai': '+07:00',\n",
    "    'Vladimir': '+03:00',\n",
    "    'Ivanovo': '+03:00',\n",
    "    'Astrakhan Oblast': '+04:00',\n",
    "    'Penza': '+03:00',\n",
    "    'Kabardino-Balkariya Republic': '+03:00',\n",
    "    'Jaroslavl': '+03:00',\n",
    "    'Sakhalin Oblast': '+11:00',\n",
    "    'Sebastopol City': '+03:00',\n",
    "    'Tyumen Oblast': '+05:00',\n",
    "    'Kirov': '+03:00',\n",
    "    'Orel Oblast': '+03:00',\n",
    "    'Omsk': '+06:00',\n",
    "    'Smolenskaya Oblast': '+03:00',\n",
    "    'Nenets': '+03:00',\n",
    "    'Tver Oblast': '+03:00',\n",
    "    'Jewish Autonomous Oblast': '+10:00',\n",
    "    'Ingushetiya Republic': '+03:00',\n",
    "    'Kaluga': '+03:00',\n",
    "    'Kaliningrad': '+02:00',\n",
    "    'North Ossetia': '+03:00',\n",
    "    'Perm': '+05:00',\n",
    "    'Smolensk': '+03:00',\n",
    "    'Primorskiy Maritime Kray': '+10:00',\n",
    "    'Vologda': '+03:00',\n",
    "    'Stavropol Krai': '+03:00',\n",
    "    'Astrakhan': '+04:00',\n",
    "    'Transbaikal Territory': '+09:00',\n",
    "    'Tambov': '+03:00',\n",
    "    'Tyva Republic': '+07:00',\n",
    "    'Arkhangelsk Oblast': '+03:00'\n",
    "}\n",
    "\n",
    "# Define a function to convert local time to UTC\n",
    "def convert_to_utc(row):\n",
    "    # Get the UTC offset from the mapping\n",
    "    utc_offset = int(region_to_utc.get(row['region'], '+03:00').split(\":\")[0][1:]) # Default to UTC if region not found\n",
    "    # Convert the local time to UTC\n",
    "    local_time = row['event_timestamp']\n",
    "    utc_time = local_time.tz_convert(f'Etc/GMT+{utc_offset}').value # Convert to the appropriate UTC\n",
    "    return utc_time\n"
   ]
  },
  {
   "cell_type": "code",
   "execution_count": 3,
   "id": "f3e5aee3-c5de-403b-9157-197bd0954301",
   "metadata": {},
   "outputs": [],
   "source": [
    "# 2.1. Load Data\n",
    "train_events = pd.read_csv('train_events.csv')\n",
    "all_events = pd.read_csv('all_events.csv')\n",
    "video_info = pd.read_csv('video_info_v2.csv')\n",
    "train_targets = pd.read_csv('train_targets.csv')"
   ]
  },
  {
   "cell_type": "code",
   "execution_count": 4,
   "id": "b14411a4-254e-4561-97fc-96a6b3e4555b",
   "metadata": {},
   "outputs": [],
   "source": [
    "events = pd.concat([train_events,all_events])"
   ]
  },
  {
   "cell_type": "code",
   "execution_count": 5,
   "id": "d7ba8c50-7539-4fa2-8433-3b8860cd1571",
   "metadata": {},
   "outputs": [],
   "source": [
    "# 2.2. Merge DataFrames\n",
    "data = events.merge(video_info, on='rutube_video_id', how='left')\n",
    "#data = data.merge(train_targets, on='viewer_uid', how='left')\n",
    "\n",
    "# 2.3. Convert event_timestamp to datetime\n",
    "data['event_timestamp'] = pd.to_datetime(data['event_timestamp'])\n"
   ]
  },
  {
   "cell_type": "code",
   "execution_count": 6,
   "id": "382fb6f6-62db-48b2-a462-47782ee8a9ec",
   "metadata": {},
   "outputs": [],
   "source": [
    "data['event_timestamp'] = data.apply(convert_to_utc, axis=1)"
   ]
  },
  {
   "cell_type": "code",
   "execution_count": 6,
   "id": "c1ceb2b3-d58d-4cc2-b6d6-5e698d1093b2",
   "metadata": {},
   "outputs": [],
   "source": [
    "#data = data.drop(columns  =['age','age_class','sex'])\n",
    "#data = data.drop(columns = ['title'])"
   ]
  },
  {
   "cell_type": "code",
   "execution_count": 8,
   "id": "97737803-e12a-4d90-a5b5-c13eed2283ef",
   "metadata": {},
   "outputs": [],
   "source": [
    "from ptls.preprocessing import PandasDataPreprocessor\n",
    "\n",
    "preprocessor = PandasDataPreprocessor(\n",
    "    col_id='viewer_uid',\n",
    "    col_event_time='event_timestamp',\n",
    "    event_time_transformation='none',\n",
    "    cols_category=['title','category','author_id','ua_client_name','rutube_video_id','ua_client_type','ua_os','ua_device_type','region'],\n",
    "    cols_numerical=['total_watchtime','duration'],\n",
    "    return_records=True,\n",
    ")"
   ]
  },
  {
   "cell_type": "code",
   "execution_count": 9,
   "id": "3b241465-cb2c-482a-9dff-16a2a937c1f1",
   "metadata": {},
   "outputs": [],
   "source": [
    "dataset = preprocessor.fit_transform(data)"
   ]
  },
  {
   "cell_type": "code",
   "execution_count": 17,
   "id": "dfb730b4-16a9-4492-9225-9bb321eaa5da",
   "metadata": {},
   "outputs": [],
   "source": [
    "import pickle\n",
    "\n",
    "with open('preprocessor_new', 'wb') as f:\n",
    "    pickle.dump(preprocessor, f)"
   ]
  },
  {
   "cell_type": "code",
   "execution_count": null,
   "id": "517f1df0-68c5-47ad-8896-b62432a64270",
   "metadata": {},
   "outputs": [],
   "source": [
    "dataset = sorted(dataset, key=lambda x: x['viewer_uid'])\n",
    "train_targets = train_targets.sort_values(by=['viewer_uid'])"
   ]
  },
  {
   "cell_type": "code",
   "execution_count": 11,
   "id": "204f2cdb-5186-4cb3-aa00-6d48263ee118",
   "metadata": {},
   "outputs": [],
   "source": [
    "from functools import partial\n",
    "from ptls.nn import TrxEncoder, RnnSeqEncoder\n",
    "from ptls.frames.coles import CoLESModule\n",
    "\n",
    "trx_encoder_params = dict(\n",
    "    embeddings_noise=0.003,\n",
    "    numeric_values={'total_watchtime': 'identity','duration':'identity'},\n",
    "    embeddings={\n",
    "        'category':{'in': 128, 'out': 16},\n",
    "        'author_id':{'in': 128, 'out': 64},\n",
    "        'ua_client_name':{'in': 128, 'out': 16},\n",
    "        'rutube_video_id':{'in': 128, 'out': 64},\n",
    "        'ua_client_type':{'in': 16, 'out': 16},\n",
    "        'ua_os':{'in': 16, 'out': 16},\n",
    "        'ua_device_type':{'in': 16, 'out': 16},\n",
    "        'title':{'in': 128, 'out': 64},\n",
    "        'region':{'in': 16, 'out': 16},\n",
    "    },\n",
    ")\n",
    "\n",
    "seq_encoder = RnnSeqEncoder(\n",
    "    trx_encoder=TrxEncoder(**trx_encoder_params),\n",
    "    hidden_size=256,\n",
    "    type='gru',\n",
    ")"
   ]
  },
  {
   "cell_type": "code",
   "execution_count": null,
   "id": "0a639fe1-22e4-4d36-94a2-c9a15febc1c3",
   "metadata": {},
   "outputs": [],
   "source": [
    "from functools import partial\n",
    "from ptls.nn import TrxEncoder, RnnSeqEncoder\n",
    "from ptls.frames.coles import CoLESModule\n",
    "\n",
    "trx_encoder_params = dict(\n",
    "    embeddings_noise=0.003,\n",
    "    numeric_values={'total_watchtime': 'identity','duration':'identity'},\n",
    "    embeddings={\n",
    "        'category':{'in': 128, 'out': 16},\n",
    "        'author_id':{'in': 128, 'out': 64},\n",
    "        'ua_client_name':{'in': 128, 'out': 16},\n",
    "        'rutube_video_id':{'in': 128, 'out': 64},\n",
    "        'ua_client_type':{'in': 16, 'out': 16},\n",
    "        'ua_os':{'in': 16, 'out': 16},\n",
    "        'ua_device_type':{'in': 16, 'out': 16},\n",
    "        'title':{'in': 128, 'out': 64},\n",
    "        'region':{'in': 16, 'out': 16},\n",
    "    },\n",
    ")\n",
    "\n",
    "seq_encoder = RnnSeqEncoder(\n",
    "    trx_encoder=TrxEncoder(**trx_encoder_params),\n",
    "    hidden_size=256,\n",
    "    type='gru',\n",
    ")\n",
    "\n",
    "model = CoLESModule(\n",
    "    seq_encoder=seq_encoder,\n",
    "    optimizer_partial=partial(torch.optim.Adam, lr=0.001),\n",
    "    lr_scheduler_partial=partial(torch.optim.lr_scheduler.StepLR, step_size=30, gamma=0.9),\n",
    ")"
   ]
  },
  {
   "cell_type": "code",
   "execution_count": 12,
   "id": "8ba11c5a-fe73-4d08-bd2a-200e65c1704b",
   "metadata": {},
   "outputs": [],
   "source": [
    "model = CoLESModule(\n",
    "    seq_encoder=seq_encoder,\n",
    "    optimizer_partial=partial(torch.optim.Adam, lr=0.001),\n",
    "    lr_scheduler_partial=partial(torch.optim.lr_scheduler.StepLR, step_size=30, gamma=0.9),\n",
    ")"
   ]
  },
  {
   "cell_type": "code",
   "execution_count": 13,
   "id": "bc125c40-97dc-4cf2-9056-240df4c43d56",
   "metadata": {},
   "outputs": [],
   "source": [
    "from ptls.data_load.datasets import MemoryMapDataset\n",
    "from ptls.data_load.iterable_processing import SeqLenFilter\n",
    "from ptls.frames.coles import ColesDataset\n",
    "from ptls.frames.coles.split_strategy import SampleSlices\n",
    "from ptls.frames import PtlsDataModule\n",
    "\n",
    "train_dl = PtlsDataModule(\n",
    "    train_data=ColesDataset(\n",
    "        MemoryMapDataset(\n",
    "            data=dataset,\n",
    "            i_filters=[\n",
    "                SeqLenFilter(min_seq_len=10),\n",
    "            ],\n",
    "        ),\n",
    "        splitter=SampleSlices(\n",
    "            split_count=5,\n",
    "            cnt_min=10,\n",
    "            cnt_max=200,\n",
    "        ),\n",
    "    ),\n",
    "    train_num_workers=4,\n",
    "    train_batch_size=128,\n",
    ")"
   ]
  },
  {
   "cell_type": "code",
   "execution_count": 14,
   "id": "4adc2857-58a1-4a18-8f38-bceffa555d47",
   "metadata": {},
   "outputs": [
    {
     "name": "stderr",
     "output_type": "stream",
     "text": [
      "Using 16bit None Automatic Mixed Precision (AMP)\n",
      "GPU available: True (cuda), used: True\n",
      "TPU available: False, using: 0 TPU cores\n",
      "IPU available: False, using: 0 IPUs\n",
      "HPU available: False, using: 0 HPUs\n",
      "/home/kglin/miniconda3/envs/central_bank/lib/python3.11/site-packages/pytorch_lightning/trainer/connectors/logger_connector/logger_connector.py:67: UserWarning: Starting from v1.9.0, `tensorboardX` has been removed as a dependency of the `pytorch_lightning` package, due to potential conflicts with other packages in the ML ecosystem. For this reason, `logger=True` will use `CSVLogger` as the default logger, unless the `tensorboard` or `tensorboardX` packages are found. Please `pip install lightning[extra]` or one of them to enable TensorBoard support by default\n",
      "  warning_cache.warn(\n"
     ]
    }
   ],
   "source": [
    "import torch\n",
    "import pytorch_lightning as pl\n",
    "\n",
    "import logging\n",
    "\n",
    "trainer = pl.Trainer(\n",
    "    precision=16,\n",
    "    max_epochs=120,\n",
    "    accelerator=\"cuda\" if torch.cuda.is_available() else \"cpu\",\n",
    "    devices=1 if torch.cuda.is_available() else \"auto\",\n",
    "    enable_progress_bar=True,\n",
    ")"
   ]
  },
  {
   "cell_type": "code",
   "execution_count": 15,
   "id": "85f6efdf-cd2b-4c57-a6b5-c5c5a6907173",
   "metadata": {
    "scrolled": true
   },
   "outputs": [
    {
     "name": "stdout",
     "output_type": "stream",
     "text": [
      "logger.version = 29\n"
     ]
    },
    {
     "name": "stderr",
     "output_type": "stream",
     "text": [
      "/home/kglin/miniconda3/envs/central_bank/lib/python3.11/site-packages/pytorch_lightning/trainer/configuration_validator.py:108: PossibleUserWarning: You defined a `validation_step` but have no `val_dataloader`. Skipping val loop.\n",
      "  rank_zero_warn(\n",
      "LOCAL_RANK: 0 - CUDA_VISIBLE_DEVICES: [0]\n",
      "\n",
      "  | Name               | Type            | Params\n",
      "-------------------------------------------------------\n",
      "0 | _loss              | ContrastiveLoss | 0     \n",
      "1 | _seq_encoder       | RnnSeqEncoder   | 450 K \n",
      "2 | _validation_metric | BatchRecallTopK | 0     \n",
      "3 | _head              | Head            | 0     \n",
      "-------------------------------------------------------\n",
      "450 K     Trainable params\n",
      "0         Non-trainable params\n",
      "450 K     Total params\n",
      "0.902     Total estimated model params size (MB)\n"
     ]
    },
    {
     "data": {
      "application/vnd.jupyter.widget-view+json": {
       "model_id": "996bb1abeef84d948642ab45e251a4b3",
       "version_major": 2,
       "version_minor": 0
      },
      "text/plain": [
       "Training: 0it [00:00, ?it/s]"
      ]
     },
     "metadata": {},
     "output_type": "display_data"
    },
    {
     "name": "stdout",
     "output_type": "stream",
     "text": [
      "{'loss': tensor(22.1830, device='cuda:0'), 'seq_len': tensor(17.6359, device='cuda:0')}\n"
     ]
    },
    {
     "name": "stderr",
     "output_type": "stream",
     "text": [
      "/home/kglin/miniconda3/envs/central_bank/lib/python3.11/site-packages/pytorch_lightning/trainer/call.py:48: UserWarning: Detected KeyboardInterrupt, attempting graceful shutdown...\n",
      "  rank_zero_warn(\"Detected KeyboardInterrupt, attempting graceful shutdown...\")\n"
     ]
    }
   ],
   "source": [
    "print(f'logger.version = {trainer.logger.version}')\n",
    "torch.set_float32_matmul_precision('medium')\n",
    "trainer.fit(model, train_dl)\n",
    "print(trainer.logged_metrics)"
   ]
  },
  {
   "cell_type": "code",
   "execution_count": 16,
   "id": "ff68b2a1-b14c-43df-a9d9-fe2d14a53de8",
   "metadata": {},
   "outputs": [],
   "source": [
    "torch.save(seq_encoder.state_dict(), \"coles-title2.pt\")"
   ]
  },
  {
   "cell_type": "code",
   "execution_count": 45,
   "id": "d2224985-ce9f-49d5-9606-d5bdcf8704bb",
   "metadata": {
    "scrolled": true
   },
   "outputs": [
    {
     "name": "stderr",
     "output_type": "stream",
     "text": [
      "LOCAL_RANK: 0 - CUDA_VISIBLE_DEVICES: [0]\n",
      "/home/kglin/miniconda3/envs/central_bank/lib/python3.11/site-packages/pytorch_lightning/trainer/connectors/data_connector.py:224: PossibleUserWarning: The dataloader, predict_dataloader 0, does not have many workers which may be a bottleneck. Consider increasing the value of the `num_workers` argument` (try 16 which is the number of cpus on this machine) in the `DataLoader` init to improve performance.\n",
      "  rank_zero_warn(\n"
     ]
    },
    {
     "data": {
      "application/vnd.jupyter.widget-view+json": {
       "model_id": "80bc20a2b27a47278762b8e8ceca0bb3",
       "version_major": 2,
       "version_minor": 0
      },
      "text/plain": [
       "Predicting: 447it [00:00, ?it/s]"
      ]
     },
     "metadata": {},
     "output_type": "display_data"
    },
    {
     "name": "stderr",
     "output_type": "stream",
     "text": [
      "/home/kglin/miniconda3/envs/central_bank/lib/python3.11/site-packages/pytorch_lightning/trainer/call.py:48: UserWarning: Detected KeyboardInterrupt, attempting graceful shutdown...\n",
      "  rank_zero_warn(\"Detected KeyboardInterrupt, attempting graceful shutdown...\")\n"
     ]
    },
    {
     "ename": "TypeError",
     "evalue": "vstack(): argument 'tensors' (position 1) must be tuple of Tensors, not NoneType",
     "output_type": "error",
     "traceback": [
      "\u001b[0;31m---------------------------------------------------------------------------\u001b[0m",
      "\u001b[0;31mTypeError\u001b[0m                                 Traceback (most recent call last)",
      "\u001b[0;32m/tmp/ipykernel_5421/3100491947.py\u001b[0m in \u001b[0;36m<cell line: 0>\u001b[0;34m()\u001b[0m\n\u001b[1;32m      1\u001b[0m \u001b[0;32mfrom\u001b[0m \u001b[0mptls\u001b[0m\u001b[0;34m.\u001b[0m\u001b[0mdata_load\u001b[0m\u001b[0;34m.\u001b[0m\u001b[0mdatasets\u001b[0m \u001b[0;32mimport\u001b[0m \u001b[0minference_data_loader\u001b[0m\u001b[0;34m\u001b[0m\u001b[0;34m\u001b[0m\u001b[0m\n\u001b[1;32m      2\u001b[0m \u001b[0mall_dl\u001b[0m \u001b[0;34m=\u001b[0m \u001b[0minference_data_loader\u001b[0m\u001b[0;34m(\u001b[0m\u001b[0mdataset\u001b[0m\u001b[0;34m,\u001b[0m \u001b[0mnum_workers\u001b[0m\u001b[0;34m=\u001b[0m\u001b[0;36m0\u001b[0m\u001b[0;34m,\u001b[0m \u001b[0mbatch_size\u001b[0m\u001b[0;34m=\u001b[0m\u001b[0;36m128\u001b[0m\u001b[0;34m)\u001b[0m\u001b[0;34m\u001b[0m\u001b[0;34m\u001b[0m\u001b[0m\n\u001b[0;32m----> 3\u001b[0;31m \u001b[0mtrain_embeds\u001b[0m \u001b[0;34m=\u001b[0m \u001b[0mtorch\u001b[0m\u001b[0;34m.\u001b[0m\u001b[0mvstack\u001b[0m\u001b[0;34m(\u001b[0m\u001b[0mtrainer\u001b[0m\u001b[0;34m.\u001b[0m\u001b[0mpredict\u001b[0m\u001b[0;34m(\u001b[0m\u001b[0mmodel\u001b[0m\u001b[0;34m,\u001b[0m \u001b[0mall_dl\u001b[0m\u001b[0;34m,\u001b[0m\u001b[0;34m)\u001b[0m\u001b[0;34m)\u001b[0m\u001b[0;34m\u001b[0m\u001b[0;34m\u001b[0m\u001b[0m\n\u001b[0m",
      "\u001b[0;31mTypeError\u001b[0m: vstack(): argument 'tensors' (position 1) must be tuple of Tensors, not NoneType"
     ]
    }
   ],
   "source": [
    "from ptls.data_load.datasets import inference_data_loader\n",
    "all_dl = inference_data_loader(dataset, num_workers=0, batch_size=128)\n",
    "train_embeds = torch.vstack(trainer.predict(model, all_dl,))"
   ]
  },
  {
   "cell_type": "code",
   "execution_count": 60,
   "id": "3a667350-187a-4378-a63c-f40d228dbfef",
   "metadata": {},
   "outputs": [
    {
     "name": "stdout",
     "output_type": "stream",
     "text": [
      "Weighted F1-score: 0.4628\n"
     ]
    }
   ],
   "source": [
    "y_pred = model.predict(emb_test)\n",
    "print(f'Weighted F1-score: {f1:.4f}')"
   ]
  }
 ],
 "metadata": {
  "kernelspec": {
   "display_name": "Python 3 (ipykernel)",
   "language": "python",
   "name": "python3"
  },
  "language_info": {
   "codemirror_mode": {
    "name": "ipython",
    "version": 3
   },
   "file_extension": ".py",
   "mimetype": "text/x-python",
   "name": "python",
   "nbconvert_exporter": "python",
   "pygments_lexer": "ipython3",
   "version": "3.11.4"
  }
 },
 "nbformat": 4,
 "nbformat_minor": 5
}
